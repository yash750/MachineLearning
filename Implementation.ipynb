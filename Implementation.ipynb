{
 "cells": [
  {
   "cell_type": "code",
   "execution_count": 36,
   "metadata": {},
   "outputs": [],
   "source": [
    "#import necessary libraries\n",
    "import pandas as pd\n",
    "import numpy as np\n",
    "import matplotlib.pyplot as plt\n"
   ]
  },
  {
   "cell_type": "code",
   "execution_count": 37,
   "metadata": {},
   "outputs": [
    {
     "data": {
      "text/html": [
       "<div>\n",
       "<style scoped>\n",
       "    .dataframe tbody tr th:only-of-type {\n",
       "        vertical-align: middle;\n",
       "    }\n",
       "\n",
       "    .dataframe tbody tr th {\n",
       "        vertical-align: top;\n",
       "    }\n",
       "\n",
       "    .dataframe thead th {\n",
       "        text-align: right;\n",
       "    }\n",
       "</style>\n",
       "<table border=\"1\" class=\"dataframe\">\n",
       "  <thead>\n",
       "    <tr style=\"text-align: right;\">\n",
       "      <th></th>\n",
       "      <th>Age</th>\n",
       "      <th>Gender</th>\n",
       "      <th>Education Level</th>\n",
       "      <th>Job Title</th>\n",
       "      <th>Years of Experience</th>\n",
       "      <th>Salary</th>\n",
       "    </tr>\n",
       "  </thead>\n",
       "  <tbody>\n",
       "    <tr>\n",
       "      <th>0</th>\n",
       "      <td>32.0</td>\n",
       "      <td>Male</td>\n",
       "      <td>Bachelor's</td>\n",
       "      <td>Software Engineer</td>\n",
       "      <td>5.0</td>\n",
       "      <td>90000.0</td>\n",
       "    </tr>\n",
       "    <tr>\n",
       "      <th>1</th>\n",
       "      <td>28.0</td>\n",
       "      <td>Female</td>\n",
       "      <td>Master's</td>\n",
       "      <td>Data Analyst</td>\n",
       "      <td>3.0</td>\n",
       "      <td>65000.0</td>\n",
       "    </tr>\n",
       "    <tr>\n",
       "      <th>2</th>\n",
       "      <td>45.0</td>\n",
       "      <td>Male</td>\n",
       "      <td>PhD</td>\n",
       "      <td>Senior Manager</td>\n",
       "      <td>15.0</td>\n",
       "      <td>150000.0</td>\n",
       "    </tr>\n",
       "    <tr>\n",
       "      <th>3</th>\n",
       "      <td>36.0</td>\n",
       "      <td>Female</td>\n",
       "      <td>Bachelor's</td>\n",
       "      <td>Sales Associate</td>\n",
       "      <td>7.0</td>\n",
       "      <td>60000.0</td>\n",
       "    </tr>\n",
       "    <tr>\n",
       "      <th>4</th>\n",
       "      <td>52.0</td>\n",
       "      <td>Male</td>\n",
       "      <td>Master's</td>\n",
       "      <td>Director</td>\n",
       "      <td>20.0</td>\n",
       "      <td>200000.0</td>\n",
       "    </tr>\n",
       "    <tr>\n",
       "      <th>...</th>\n",
       "      <td>...</td>\n",
       "      <td>...</td>\n",
       "      <td>...</td>\n",
       "      <td>...</td>\n",
       "      <td>...</td>\n",
       "      <td>...</td>\n",
       "    </tr>\n",
       "    <tr>\n",
       "      <th>6699</th>\n",
       "      <td>49.0</td>\n",
       "      <td>Female</td>\n",
       "      <td>PhD</td>\n",
       "      <td>Director of Marketing</td>\n",
       "      <td>20.0</td>\n",
       "      <td>200000.0</td>\n",
       "    </tr>\n",
       "    <tr>\n",
       "      <th>6700</th>\n",
       "      <td>32.0</td>\n",
       "      <td>Male</td>\n",
       "      <td>High School</td>\n",
       "      <td>Sales Associate</td>\n",
       "      <td>3.0</td>\n",
       "      <td>50000.0</td>\n",
       "    </tr>\n",
       "    <tr>\n",
       "      <th>6701</th>\n",
       "      <td>30.0</td>\n",
       "      <td>Female</td>\n",
       "      <td>Bachelor's Degree</td>\n",
       "      <td>Financial Manager</td>\n",
       "      <td>4.0</td>\n",
       "      <td>55000.0</td>\n",
       "    </tr>\n",
       "    <tr>\n",
       "      <th>6702</th>\n",
       "      <td>46.0</td>\n",
       "      <td>Male</td>\n",
       "      <td>Master's Degree</td>\n",
       "      <td>Marketing Manager</td>\n",
       "      <td>14.0</td>\n",
       "      <td>140000.0</td>\n",
       "    </tr>\n",
       "    <tr>\n",
       "      <th>6703</th>\n",
       "      <td>26.0</td>\n",
       "      <td>Female</td>\n",
       "      <td>High School</td>\n",
       "      <td>Sales Executive</td>\n",
       "      <td>1.0</td>\n",
       "      <td>35000.0</td>\n",
       "    </tr>\n",
       "  </tbody>\n",
       "</table>\n",
       "<p>6704 rows × 6 columns</p>\n",
       "</div>"
      ],
      "text/plain": [
       "       Age  Gender    Education Level              Job Title  \\\n",
       "0     32.0    Male         Bachelor's      Software Engineer   \n",
       "1     28.0  Female           Master's           Data Analyst   \n",
       "2     45.0    Male                PhD         Senior Manager   \n",
       "3     36.0  Female         Bachelor's        Sales Associate   \n",
       "4     52.0    Male           Master's               Director   \n",
       "...    ...     ...                ...                    ...   \n",
       "6699  49.0  Female                PhD  Director of Marketing   \n",
       "6700  32.0    Male        High School        Sales Associate   \n",
       "6701  30.0  Female  Bachelor's Degree      Financial Manager   \n",
       "6702  46.0    Male    Master's Degree      Marketing Manager   \n",
       "6703  26.0  Female        High School        Sales Executive   \n",
       "\n",
       "      Years of Experience    Salary  \n",
       "0                     5.0   90000.0  \n",
       "1                     3.0   65000.0  \n",
       "2                    15.0  150000.0  \n",
       "3                     7.0   60000.0  \n",
       "4                    20.0  200000.0  \n",
       "...                   ...       ...  \n",
       "6699                 20.0  200000.0  \n",
       "6700                  3.0   50000.0  \n",
       "6701                  4.0   55000.0  \n",
       "6702                 14.0  140000.0  \n",
       "6703                  1.0   35000.0  \n",
       "\n",
       "[6704 rows x 6 columns]"
      ]
     },

     "execution_count": 37,
     "metadata": {},
     "output_type": "execute_result"
    }
   ],
   "source": [
    "# Step 1: Process the data into dataframes\n",
    "data = pd.read_csv(\"Salary_Data[1].csv\")\n",
    "data"
   ]
  },
  {
   "cell_type": "code",
   "execution_count": 38,
   "metadata": {},
   "outputs": [
    {
     "data": {
      "text/html": [
       "<div>\n",
       "<style scoped>\n",
       "    .dataframe tbody tr th:only-of-type {\n",
       "        vertical-align: middle;\n",
       "    }\n",
       "\n",
       "    .dataframe tbody tr th {\n",
       "        vertical-align: top;\n",
       "    }\n",
       "\n",
       "    .dataframe thead th {\n",
       "        text-align: right;\n",
       "    }\n",
       "</style>\n",
       "<table border=\"1\" class=\"dataframe\">\n",
       "  <thead>\n",
       "    <tr style=\"text-align: right;\">\n",
       "      <th></th>\n",
       "      <th>Age</th>\n",
       "      <th>Years of Experience</th>\n",
       "      <th>Salary</th>\n",
       "    </tr>\n",
       "  </thead>\n",
       "  <tbody>\n",
       "    <tr>\n",
       "      <th>count</th>\n",
       "      <td>6702.000000</td>\n",
       "      <td>6701.000000</td>\n",
       "      <td>6699.000000</td>\n",
       "    </tr>\n",
       "    <tr>\n",
       "      <th>mean</th>\n",
       "      <td>33.620859</td>\n",
       "      <td>8.094687</td>\n",
       "      <td>115326.964771</td>\n",
       "    </tr>\n",
       "    <tr>\n",
       "      <th>std</th>\n",
       "      <td>7.614633</td>\n",
       "      <td>6.059003</td>\n",
       "      <td>52786.183911</td>\n",
       "    </tr>\n",
       "    <tr>\n",
       "      <th>min</th>\n",
       "      <td>21.000000</td>\n",
       "      <td>0.000000</td>\n",
       "      <td>350.000000</td>\n",
       "    </tr>\n",
       "    <tr>\n",
       "      <th>25%</th>\n",
       "      <td>28.000000</td>\n",
       "      <td>3.000000</td>\n",
       "      <td>70000.000000</td>\n",
       "    </tr>\n",
       "    <tr>\n",
       "      <th>50%</th>\n",
       "      <td>32.000000</td>\n",
       "      <td>7.000000</td>\n",
       "      <td>115000.000000</td>\n",
       "    </tr>\n",
       "    <tr>\n",
       "      <th>75%</th>\n",
       "      <td>38.000000</td>\n",
       "      <td>12.000000</td>\n",
       "      <td>160000.000000</td>\n",
       "    </tr>\n",
       "    <tr>\n",
       "      <th>max</th>\n",
       "      <td>62.000000</td>\n",
       "      <td>34.000000</td>\n",
       "      <td>250000.000000</td>\n",
       "    </tr>\n",
       "  </tbody>\n",
       "</table>\n",
       "</div>"
      ],
      "text/plain": [
       "               Age  Years of Experience         Salary\n",
       "count  6702.000000          6701.000000    6699.000000\n",
       "mean     33.620859             8.094687  115326.964771\n",
       "std       7.614633             6.059003   52786.183911\n",
       "min      21.000000             0.000000     350.000000\n",
       "25%      28.000000             3.000000   70000.000000\n",
       "50%      32.000000             7.000000  115000.000000\n",
       "75%      38.000000            12.000000  160000.000000\n",
       "max      62.000000            34.000000  250000.000000"
      ]
     },

     "execution_count": 38,
     "metadata": {},
     "output_type": "execute_result"
    }
   ],
   "source": [
    "data.describe()"
   ]
  },
  {
   "cell_type": "code",,
   "execution_count": 39,
   "metadata": {},
   "outputs": [
    {
     "data": {
      "text/plain": [
       "Education Level\n",
       "Bachelor's Degree    2267\n",
       "Master's Degree      1573\n",
       "PhD                  1368\n",
       "Bachelor's            756\n",
       "High School           448\n",
       "Master's              288\n",
       "phD                     1\n",
       "Name: count, dtype: int64"
      ]
     },
     "execution_count": 39,
     "metadata": {},
     "output_type": "execute_result"
    }
   ],
   "source": [
    "data['Education Level'].value_counts()"
   ]
  },
  {
   "cell_type": "code",
   "execution_count": 40,
   "metadata": {},
   "outputs": [
    {
     "name": "stderr",
     "output_type": "stream",
     "text": [
      "/tmp/ipykernel_3991/3976292554.py:3: FutureWarning: Downcasting behavior in `replace` is deprecated and will be removed in a future version. To retain the old behavior, explicitly call `result.infer_objects(copy=False)`. To opt-in to the future behavior, set `pd.set_option('future.no_silent_downcasting', True)`\n",
      "  data = data.replace(to_replace=[\"PhD\",\"phD\", \"Master's Degree\", \"Master's\",\"Bachelor's Degree\",\"Bachelor's\",\"High School\"], value=[4,4,3,3,2,2,1])\n"
     ]
    }
   ],
   "source": [
    "# Replacing educational level values with numerical values\n",
    "# Phd : 4, Masters: 3, Bachelor's : 2 and High School: 1\n",
    "data = data.replace(to_replace=[\"PhD\",\"phD\", \"Master's Degree\", \"Master's\",\"Bachelor's Degree\",\"Bachelor's\",\"High School\"], value=[4,4,3,3,2,2,1])"
   ]
  },
  {
   "cell_type": "code",
   "execution_count": 41,
   "metadata": {},
   "outputs": [
    {
     "data": {
      "text/plain": [
       "0       0.0\n",
       "1       1.0\n",
       "2       0.0\n",
       "3       1.0\n",
       "4       0.0\n",
       "       ... \n",
       "6699    1.0\n",
       "6700    0.0\n",
       "6701    1.0\n",
       "6702    0.0\n",
       "6703    1.0\n",
       "Name: Gender, Length: 6704, dtype: float64"
      ]
     },
     "execution_count": 41,
     "metadata": {},
     "output_type": "execute_result"
    }
   ],
   "source": [
    "# Replacing : Male --> 0 and Female --> 1\n",
    "data[\"Gender\"] = data[\"Gender\"].map({\"Male\": 0, \"Female\": 1})\n",
    "\n",
    "data[\"Gender\"]\n",
    "# now we have more number of useful columns which can be helpful for our regression purpose."
   ]
  },
  {
   "cell_type": "code",
   "execution_count": 42,
   "metadata": {},
   "outputs": [],
   "source": [
    "# Step 2: Filter Relevant Columns\n",
    "\n",
    "data_filtered = data[['Years of Experience', 'Salary']].dropna()\n",
    "\n",
    "x = data_filtered['Years of Experience'].values\n",
    "y = data_filtered['Salary'].values\n"
   ]
  },
  {
   "cell_type": "code",
   "execution_count": 43,
   "metadata": {},
   "outputs": [],
   "source": [
    "# Step 3: Function to Calculate Regression Parameters\n",
    "def calculate_regression(X, Y):\n",
    "    \"\"\"\n",
    "    Calculate the slope (m) and intercept (c) for linear regression.\n",
    "    \"\"\"\n",
    "    #calculate mean of x & y using an inbuilt numpy method mean()\n",
    "    mean_x = np.mean(X)\n",
    "    mean_y = np.mean(Y)\n",
    "\n",
    "    # total no.of input values\n",
    "    m = len(X)\n",
    "\n",
    "    # using the formula to calculate m & c\n",
    "    num = 0\n",
    "    den = 0\n",
    "\n",
    "    for i in range(m):\n",
    "        num += (X[i] - mean_x) * (Y[i] - mean_y)\n",
    "        den += (X[i] - mean_x) ** 2\n",
    "\n",
    "    m = num / den\n",
    "    c = mean_y - (m * mean_x)\n",
    "\n",
    "    return m, c"
   ]
  },
  {
   "cell_type": "code",
   "execution_count": 44,
   "metadata": {},
   "outputs": [
    {
     "name": "stdout",
     "output_type": "stream",
     "text": [
      "Slope :  7046.768344026587\n",
      "intercept :  58283.27509418632\n",
      "Mean Squared Error (MSE): 962743941.6787317\n"
     ]
    }
   ],
   "source": [
    "# Calculate parameters\n",
    "m, c = calculate_regression(x, y)\n",
    "\n",
    "print(\"Slope : \",m)\n",
    "print(\"intercept : \",c)\n",
    "\n",
    "\n",
    "# Step 4: Predict Function\n",
    "def predict(x_value):\n",
    "    \"\"\"Predict y (Salary) based on x (Years of Experience)\"\"\"\n",
    "\n",
    "    return m * x_value + c\n",
    "\n",
    "# Step 5: Evaluate Model's accuracy using Mean Squared Error \n",
    "predicted_y = predict(x)\n",
    "mse = np.mean((y - predicted_y) ** 2)\n",
    "print(f\"Mean Squared Error (MSE): {mse}\")"
   ]
  },
  {
   "cell_type": "code",
   "execution_count": 45,
   "metadata": {},
   "outputs": [
    {
     "data": {
      "image/png": "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",
      "text/plain": [
       "<Figure size 640x480 with 1 Axes>"
      ]
     },
     "metadata": {},
     "output_type": "display_data"
    }
   ],
   "source": [
    "plt.scatter(x, y, color=\"blue\", label=\"Actual data\")\n",
    "plt.plot(x, predict(x), color=\"red\", label=\"Regression line\")\n",
    "plt.legend()\n",
    "plt.xlabel(\"Years of Experience\")\n",
    "plt.ylabel(\"Salary\")\n",
    "plt.title(\"Linear Regression Fit\")\n",
    "plt.show()\n"
   ]
  },
  {
   "cell_type": "code",
   "execution_count": 47,
   "metadata": {},
   "outputs": [],
   "source": [
    "\n"
   ]
  },
  {
   "cell_type": "code",
   "execution_count": 53,
   "metadata": {},
   "outputs": [
    {
     "name": "stdout",
     "output_type": "stream",
     "text": [
      "True\n",
      "True\n"
     ]
    }
   ],
   "source": []
  },
  {
   "cell_type": "code",
   "execution_count": null,
   "metadata": {},
   "outputs": [],
   "source": []
  },
  {
   "cell_type": "code",
   "execution_count": null,
   "metadata": {},
   "outputs": [],
   "source": []
  },
  {
   "cell_type": "markdown",
   "metadata": {},
   "source": []
  },
  {
   "cell_type": "code",
   "execution_count": 13,
   "metadata": {},
   "outputs": [
    {
     "data": {
      "text/plain": [
       "array([nan, nan, nan, ..., nan, nan, nan])"
      ]
     },
     "execution_count": 13,
     "metadata": {},
     "output_type": "execute_result"
    }
   ],
   "source": [
    "Y_test = np.dot(X_train_array,betas)\n",
    "Y_test"
   ]
  }
 ],
 "metadata": {
  "kernelspec": {
   "display_name": "usr",
   "language": "python",
   "name": "python3"
  },
  "language_info": {
   "codemirror_mode": {
    "name": "ipython",
    "version": 3
   },
   "file_extension": ".py",
   "mimetype": "text/x-python",
   "name": "python",
   "nbconvert_exporter": "python",
   "pygments_lexer": "ipython3",
   "version": "3.11.9"
  }
 },
 "nbformat": 4,
 "nbformat_minor": 2
}
